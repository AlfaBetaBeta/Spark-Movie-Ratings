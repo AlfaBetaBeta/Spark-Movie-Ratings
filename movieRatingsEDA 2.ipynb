{
 "cells": [
  {
   "cell_type": "markdown",
   "metadata": {},
   "source": [
    "# Movie rating database analysis"
   ]
  },
  {
   "cell_type": "markdown",
   "metadata": {},
   "source": [
    "## Original data source disclaimer"
   ]
  },
  {
   "cell_type": "markdown",
   "metadata": {},
   "source": [
    "This dataset (ml-latest-small) describes 5-star rating and free-text tagging activity from [MovieLens](http://movielens.org), a movie recommendation service. It contains 100836 ratings and 3683 tag applications across 9742 movies. These data were created by 610 users between March 29, 1996 and September 24, 2018. This dataset was generated on September 26, 2018.\n",
    "\n",
    "The data are contained in the files `movies.csv`, `ratings.csv` and `tags.csv`. More details about the contents and use of all these files follows.\n",
    "\n",
    "This GroupLens data set is publicly available for download at <http://grouplens.org/datasets/>.\n",
    "\n",
    "To acknowledge use of the dataset in publications, please cite the following paper:\n",
    "\n",
    "> F. Maxwell Harper and Joseph A. Konstan. 2015. The MovieLens Datasets: History and Context. ACM Transactions on Interactive Intelligent Systems (TiiS) 5, 4: 19:1–19:19. <https://doi.org/10.1145/2827872>\n",
    "\n",
    "All ratings are contained in the file `ratings.csv`. Each line of this file after the header row represents one rating of one movie by one user, and has the following format:\n",
    "\n",
    "    userId,movieId,rating,timestamp\n",
    "\n",
    "Movie information is contained in the file `movies.csv`. Each line of this file after the header row represents one movie, and has the following format:\n",
    "\n",
    "    movieId,title,genres\n",
    "\n",
    "All tags are contained in the file `tags.csv`. Each line of this file after the header row represents one tag applied to one movie by one user, and has the following format:\n",
    "\n",
    "    userId,movieId,tag,timestamp\n",
    "\n",
    "\n",
    "The features involved in all datasets are the following:\n",
    "1. **userId** MovieLens users were selected at random for inclusion. Their ids have been anonymized. User ids are consistent between `ratings.csv` and `tags.csv` (i.e., the same id refers to the same user across the two files). All selected users had rated at least 20 movies.\n",
    "2. **movieId** Only movies with at least one rating or tag are included in the dataset. These movie ids are consistent with those used on the MovieLens web site (e.g., id `1` corresponds to the URL <https://movielens.org/movies/1>). Movie ids are consistent between `ratings.csv`, `tags.csv` and `movies.csv` (i.e., the same id refers to the same movie across all data files).\n",
    "3. **rating** Ratings are made on a 5-star scale, with half-star increments (0.5 stars - 5.0 stars).\n",
    "4. **timestamp** Timestamps represent seconds since midnight Coordinated Universal Time (UTC) of January 1, 1970.\n",
    "5. **tag** Tags are user-generated metadata about movies. Each tag is typically a single word or short phrase. The meaning, value, and purpose of a particular tag is determined by each user.\n",
    "6. **title** Movie titles are entered manually or imported from <https://www.themoviedb.org/>, and include the year of release in parentheses. Errors and inconsistencies may exist in these titles.\n",
    "7. **genres** Genres are a pipe-separated list, and are selected from the following: {Action,Adventure,Animation,Children's,Comedy,Crime,Documentary,Drama,Fantasy,Film-Noir,Horror,Musical,Mystery,Romance,Sci-Fi,Thriller,War,Western,(no genres listed)}\n",
    "\n"
   ]
  },
  {
   "cell_type": "markdown",
   "metadata": {},
   "source": [
    "## PySpark environment setup"
   ]
  },
  {
   "cell_type": "code",
   "execution_count": 1,
   "metadata": {},
   "outputs": [],
   "source": [
    "import findspark\n",
    "findspark.init()"
   ]
  },
  {
   "cell_type": "code",
   "execution_count": 2,
   "metadata": {},
   "outputs": [
    {
     "data": {
      "text/plain": [
       "'/opt/spark-2.4.4-bin-hadoop2.7'"
      ]
     },
     "execution_count": 2,
     "metadata": {},
     "output_type": "execute_result"
    }
   ],
   "source": [
    "findspark.find()\n",
    "import pyspark\n",
    "findspark.find()"
   ]
  },
  {
   "cell_type": "code",
   "execution_count": 3,
   "metadata": {},
   "outputs": [],
   "source": [
    "from pyspark import SparkContext\n",
    "from pyspark.sql import SparkSession\n",
    "\n",
    "sc = SparkContext.getOrCreate()\n",
    "spark = SparkSession(sc)"
   ]
  },
  {
   "cell_type": "markdown",
   "metadata": {},
   "source": [
    "## Functionality imports, data source and Spark DataFrames setup"
   ]
  },
  {
   "cell_type": "code",
   "execution_count": 4,
   "metadata": {},
   "outputs": [],
   "source": [
    "import pyspark.sql.functions as F\n",
    "from pyspark.sql.types import TimestampType, DateType, IntegerType\n",
    "from pyspark.ml.recommendation import ALS\n",
    "\n",
    "from IPython.display import display, Markdown"
   ]
  },
  {
   "cell_type": "markdown",
   "metadata": {},
   "source": [
    "Import the csv files into Spark DataFrames:"
   ]
  },
  {
   "cell_type": "code",
   "execution_count": 5,
   "metadata": {},
   "outputs": [],
   "source": [
    "moviesDF = spark.read\\\n",
    "                 .option(\"header\", \"true\")\\\n",
    "                 .option(\"inferSchema\", \"true\")\\\n",
    "                 .csv(\"movies.csv\")\n",
    "\n",
    "ratingsDF = spark.read\\\n",
    "                 .option(\"header\", \"true\")\\\n",
    "                 .option(\"inferSchema\", \"true\")\\\n",
    "                 .csv(\"ratings.csv\")\n",
    "\n",
    "tagsDF = spark.read\\\n",
    "              .option(\"header\", \"true\")\\\n",
    "              .option(\"inferSchema\", \"true\")\\\n",
    "              .csv(\"tags.csv\")"
   ]
  },
  {
   "cell_type": "markdown",
   "metadata": {},
   "source": [
    "Persist the Spark DataFrames in memory for efficiency purposes, given the various ensuing operations to be applied on them:"
   ]
  },
  {
   "cell_type": "code",
   "execution_count": 6,
   "metadata": {},
   "outputs": [
    {
     "data": {
      "text/plain": [
       "DataFrame[userId: int, movieId: int, tag: string, timestamp: int]"
      ]
     },
     "execution_count": 6,
     "metadata": {},
     "output_type": "execute_result"
    }
   ],
   "source": [
    "moviesDF.cache()\n",
    "ratingsDF.cache()\n",
    "tagsDF.cache()"
   ]
  },
  {
   "cell_type": "markdown",
   "metadata": {},
   "source": [
    "## Datasets metadata analysis\n",
    "### Head view, size and schema inspection"
   ]
  },
  {
   "cell_type": "code",
   "execution_count": 7,
   "metadata": {
    "scrolled": false
   },
   "outputs": [
    {
     "name": "stdout",
     "output_type": "stream",
     "text": [
      "+-------+----------------------------------+-------------------------------------------+\n",
      "|movieId|title                             |genres                                     |\n",
      "+-------+----------------------------------+-------------------------------------------+\n",
      "|1      |Toy Story (1995)                  |Adventure|Animation|Children|Comedy|Fantasy|\n",
      "|2      |Jumanji (1995)                    |Adventure|Children|Fantasy                 |\n",
      "|3      |Grumpier Old Men (1995)           |Comedy|Romance                             |\n",
      "|4      |Waiting to Exhale (1995)          |Comedy|Drama|Romance                       |\n",
      "|5      |Father of the Bride Part II (1995)|Comedy                                     |\n",
      "+-------+----------------------------------+-------------------------------------------+\n",
      "only showing top 5 rows\n",
      "\n",
      "moviesDF has 9742 rows\n",
      "root\n",
      " |-- movieId: integer (nullable = true)\n",
      " |-- title: string (nullable = true)\n",
      " |-- genres: string (nullable = true)\n",
      "\n"
     ]
    }
   ],
   "source": [
    "moviesDF.show(5,False)\n",
    "print(\"moviesDF has {} rows\".format(moviesDF.count()))\n",
    "moviesDF.printSchema()"
   ]
  },
  {
   "cell_type": "code",
   "execution_count": 8,
   "metadata": {},
   "outputs": [
    {
     "name": "stdout",
     "output_type": "stream",
     "text": [
      "+------+-------+------+---------+\n",
      "|userId|movieId|rating|timestamp|\n",
      "+------+-------+------+---------+\n",
      "|     1|      1|   4.0|964982703|\n",
      "|     1|      3|   4.0|964981247|\n",
      "|     1|      6|   4.0|964982224|\n",
      "|     1|     47|   5.0|964983815|\n",
      "|     1|     50|   5.0|964982931|\n",
      "+------+-------+------+---------+\n",
      "only showing top 5 rows\n",
      "\n",
      "ratingsDF has 100836 rows\n",
      "root\n",
      " |-- userId: integer (nullable = true)\n",
      " |-- movieId: integer (nullable = true)\n",
      " |-- rating: double (nullable = true)\n",
      " |-- timestamp: integer (nullable = true)\n",
      "\n"
     ]
    }
   ],
   "source": [
    "ratingsDF.show(5)\n",
    "print(\"ratingsDF has {} rows\".format(ratingsDF.count()))\n",
    "ratingsDF.printSchema()"
   ]
  },
  {
   "cell_type": "code",
   "execution_count": 9,
   "metadata": {
    "scrolled": true
   },
   "outputs": [
    {
     "name": "stdout",
     "output_type": "stream",
     "text": [
      "+------+-------+---------------+----------+\n",
      "|userId|movieId|            tag| timestamp|\n",
      "+------+-------+---------------+----------+\n",
      "|     2|  60756|          funny|1445714994|\n",
      "|     2|  60756|Highly quotable|1445714996|\n",
      "|     2|  60756|   will ferrell|1445714992|\n",
      "|     2|  89774|   Boxing story|1445715207|\n",
      "|     2|  89774|            MMA|1445715200|\n",
      "+------+-------+---------------+----------+\n",
      "only showing top 5 rows\n",
      "\n",
      "tagsDF has 3683 rows\n",
      "root\n",
      " |-- userId: integer (nullable = true)\n",
      " |-- movieId: integer (nullable = true)\n",
      " |-- tag: string (nullable = true)\n",
      " |-- timestamp: integer (nullable = true)\n",
      "\n"
     ]
    }
   ],
   "source": [
    "tagsDF.show(5)\n",
    "print(\"tagsDF has {} rows\".format(tagsDF.count()))\n",
    "tagsDF.printSchema()"
   ]
  },
  {
   "cell_type": "markdown",
   "metadata": {},
   "source": [
    "### Data entities, metrics and dimensions\n",
    "\n",
    "Given the structural simplicity of the datasets considered, the following can be intuitively inferred:\n",
    "\n",
    "* **Entities:** Movies (movieID) could be considered as facts\n",
    "* **Metrics:** Rating, as per the star scale\n",
    "* **Dimensions:** Users constitute the main dimension, then genres as movie attribute, and tag and timestamp as user attribute (title is just a reader friendly alias for movieId)"
   ]
  },
  {
   "cell_type": "markdown",
   "metadata": {},
   "source": [
    "## Basic profiling"
   ]
  },
  {
   "cell_type": "markdown",
   "metadata": {},
   "source": [
    "### Summary of the ratings main statistical descriptors"
   ]
  },
  {
   "cell_type": "code",
   "execution_count": 10,
   "metadata": {
    "scrolled": true
   },
   "outputs": [
    {
     "name": "stdout",
     "output_type": "stream",
     "text": [
      "+-------+------------------+\n",
      "|summary|            rating|\n",
      "+-------+------------------+\n",
      "|  count|            100836|\n",
      "|   mean| 3.501556983616962|\n",
      "| stddev|1.0425292390606342|\n",
      "|    min|               0.5|\n",
      "|    25%|               3.0|\n",
      "|    50%|               3.5|\n",
      "|    75%|               4.0|\n",
      "|    max|               5.0|\n",
      "+-------+------------------+\n",
      "\n"
     ]
    }
   ],
   "source": [
    "ratingsDF.select(\"rating\").summary().show()"
   ]
  },
  {
   "cell_type": "markdown",
   "metadata": {},
   "source": [
    "### Inspection of missing values "
   ]
  },
  {
   "cell_type": "code",
   "execution_count": 11,
   "metadata": {},
   "outputs": [
    {
     "name": "stdout",
     "output_type": "stream",
     "text": [
      "Checking for nulls on columns of moviesDF:\n",
      "+-------+-----+------+\n",
      "|movieId|title|genres|\n",
      "+-------+-----+------+\n",
      "|      0|    0|     0|\n",
      "+-------+-----+------+\n",
      "\n"
     ]
    }
   ],
   "source": [
    "print(\"Checking for nulls on columns of moviesDF:\")\n",
    "moviesDF.select([F.count(F.when(F.col(c).isNull(), c)).alias(c) for c in moviesDF.columns]).show()"
   ]
  },
  {
   "cell_type": "code",
   "execution_count": 12,
   "metadata": {},
   "outputs": [
    {
     "name": "stdout",
     "output_type": "stream",
     "text": [
      "Checking for nulls on columns of ratingsDF:\n",
      "+------+-------+------+---------+\n",
      "|userId|movieId|rating|timestamp|\n",
      "+------+-------+------+---------+\n",
      "|     0|      0|     0|        0|\n",
      "+------+-------+------+---------+\n",
      "\n"
     ]
    }
   ],
   "source": [
    "print(\"Checking for nulls on columns of ratingsDF:\")\n",
    "ratingsDF.select([F.count(F.when(F.col(c).isNull(), c)).alias(c) for c in ratingsDF.columns]).show()"
   ]
  },
  {
   "cell_type": "code",
   "execution_count": 13,
   "metadata": {
    "scrolled": true
   },
   "outputs": [
    {
     "name": "stdout",
     "output_type": "stream",
     "text": [
      "Checking for nulls on columns of tagsDF:\n",
      "+------+-------+---+---------+\n",
      "|userId|movieId|tag|timestamp|\n",
      "+------+-------+---+---------+\n",
      "|     0|      0|  0|        0|\n",
      "+------+-------+---+---------+\n",
      "\n"
     ]
    }
   ],
   "source": [
    "print(\"Checking for nulls on columns of tagsDF:\")\n",
    "tagsDF.select([F.count(F.when(F.col(c).isNull(), c)).alias(c) for c in tagsDF.columns]).show()"
   ]
  },
  {
   "cell_type": "markdown",
   "metadata": {},
   "source": [
    "There are no null values in any of the DataDrames, which is unusual but expected in this case since the data are a well known research benchmark."
   ]
  },
  {
   "cell_type": "markdown",
   "metadata": {},
   "source": [
    "### Inspection of distinct values"
   ]
  },
  {
   "cell_type": "code",
   "execution_count": 14,
   "metadata": {},
   "outputs": [
    {
     "name": "stdout",
     "output_type": "stream",
     "text": [
      "The movies DataFrame has 9742 rows, comprising 9742 distinct movies and 951 distinct genres\n"
     ]
    }
   ],
   "source": [
    "print(\"The movies DataFrame has {0} rows, comprising {1} distinct movies and {2} distinct genres\"\\\n",
    "      .format(moviesDF.count(),\n",
    "              moviesDF.select(F.col(\"movieId\")).distinct().count(),\n",
    "              moviesDF.select(F.col(\"genres\")).distinct().count()))\n"
   ]
  },
  {
   "cell_type": "code",
   "execution_count": 15,
   "metadata": {},
   "outputs": [
    {
     "name": "stdout",
     "output_type": "stream",
     "text": [
      "The ratings DataFrame has 100836 rows, comprising 610 distinct users and 9724 distinct movies\n"
     ]
    }
   ],
   "source": [
    "print(\"The ratings DataFrame has {0} rows, comprising {1} distinct users and {2} distinct movies\"\\\n",
    "      .format(ratingsDF.count(),\n",
    "              ratingsDF.select(F.col(\"userId\")).distinct().count(),\n",
    "              ratingsDF.select(F.col(\"movieId\")).distinct().count()))\n"
   ]
  },
  {
   "cell_type": "markdown",
   "metadata": {},
   "source": [
    "Are there any conflicting ratings from the same user for the same movie in ratingsDF?"
   ]
  },
  {
   "cell_type": "code",
   "execution_count": 16,
   "metadata": {},
   "outputs": [
    {
     "data": {
      "text/plain": [
       "100836"
      ]
     },
     "execution_count": 16,
     "metadata": {},
     "output_type": "execute_result"
    }
   ],
   "source": [
    "ratingsDF.select(F.col(\"userId\"),F.col(\"movieId\")).distinct().count()"
   ]
  },
  {
   "cell_type": "markdown",
   "metadata": {},
   "source": [
    "No, each row is a unique combination of (user, movie)"
   ]
  },
  {
   "cell_type": "code",
   "execution_count": 17,
   "metadata": {},
   "outputs": [
    {
     "name": "stdout",
     "output_type": "stream",
     "text": [
      "The tags DataFrame has 3683 rows, comprising 58 distinct users, 1572 distinct movies and 1589 distinct tags\n"
     ]
    }
   ],
   "source": [
    "print(\"The tags DataFrame has {0} rows, comprising {1} distinct users, {2} distinct movies and {3} distinct tags\"\\\n",
    "      .format(tagsDF.count(),\n",
    "              tagsDF.select(F.col(\"userId\")).distinct().count(),\n",
    "              tagsDF.select(F.col(\"movieId\")).distinct().count(),\n",
    "              tagsDF.select(F.col(\"tag\")).distinct().count()))"
   ]
  },
  {
   "cell_type": "markdown",
   "metadata": {},
   "source": [
    "### Casting of timestamp column"
   ]
  },
  {
   "cell_type": "code",
   "execution_count": 18,
   "metadata": {},
   "outputs": [],
   "source": [
    "ratingsDF = ratingsDF.withColumn(\"timestamp\", ratingsDF[\"timestamp\"].cast(TimestampType()).cast(DateType()))\\\n",
    "                     .withColumnRenamed(\"timestamp\",\"date\")"
   ]
  },
  {
   "cell_type": "code",
   "execution_count": 19,
   "metadata": {},
   "outputs": [
    {
     "name": "stdout",
     "output_type": "stream",
     "text": [
      "+------+-------+------+----------+\n",
      "|userId|movieId|rating|      date|\n",
      "+------+-------+------+----------+\n",
      "|     1|      1|   4.0|2000-07-30|\n",
      "|     1|      3|   4.0|2000-07-30|\n",
      "|     1|      6|   4.0|2000-07-30|\n",
      "|     1|     47|   5.0|2000-07-30|\n",
      "|     1|     50|   5.0|2000-07-30|\n",
      "+------+-------+------+----------+\n",
      "only showing top 5 rows\n",
      "\n"
     ]
    }
   ],
   "source": [
    "ratingsDF.show(5)"
   ]
  },
  {
   "cell_type": "code",
   "execution_count": 20,
   "metadata": {},
   "outputs": [],
   "source": [
    "tagsDF = tagsDF.withColumn(\"timestamp\", tagsDF[\"timestamp\"].cast(TimestampType()).cast(DateType()))\\\n",
    "               .withColumnRenamed(\"timestamp\",\"date\")"
   ]
  },
  {
   "cell_type": "code",
   "execution_count": 21,
   "metadata": {
    "scrolled": true
   },
   "outputs": [
    {
     "name": "stdout",
     "output_type": "stream",
     "text": [
      "+------+-------+---------------+----------+\n",
      "|userId|movieId|            tag|      date|\n",
      "+------+-------+---------------+----------+\n",
      "|     2|  60756|          funny|2015-10-24|\n",
      "|     2|  60756|Highly quotable|2015-10-24|\n",
      "|     2|  60756|   will ferrell|2015-10-24|\n",
      "|     2|  89774|   Boxing story|2015-10-24|\n",
      "|     2|  89774|            MMA|2015-10-24|\n",
      "+------+-------+---------------+----------+\n",
      "only showing top 5 rows\n",
      "\n"
     ]
    }
   ],
   "source": [
    "tagsDF.show(5)"
   ]
  },
  {
   "cell_type": "markdown",
   "metadata": {},
   "source": [
    "Double check that the **date** column spans over the time frame specified in the disclaimer:"
   ]
  },
  {
   "cell_type": "code",
   "execution_count": 22,
   "metadata": {},
   "outputs": [
    {
     "name": "stdout",
     "output_type": "stream",
     "text": [
      "+-----------------+---------------+\n",
      "|ratings_from_date|ratings_to_date|\n",
      "+-----------------+---------------+\n",
      "|       1996-03-29|     2018-09-24|\n",
      "+-----------------+---------------+\n",
      "\n"
     ]
    }
   ],
   "source": [
    "ratingsDF.select(F.min(\"date\").alias(\"ratings_from_date\"),\\\n",
    "                 F.max(\"date\").alias(\"ratings_to_date\")).show()"
   ]
  },
  {
   "cell_type": "code",
   "execution_count": 23,
   "metadata": {
    "scrolled": true
   },
   "outputs": [
    {
     "name": "stdout",
     "output_type": "stream",
     "text": [
      "+--------------+------------+\n",
      "|tags_from_date|tags_to_date|\n",
      "+--------------+------------+\n",
      "|    2006-01-13|  2018-09-16|\n",
      "+--------------+------------+\n",
      "\n"
     ]
    }
   ],
   "source": [
    "tagsDF.select(F.min(\"date\").alias(\"tags_from_date\"),\\\n",
    "              F.max(\"date\").alias(\"tags_to_date\")).show()"
   ]
  },
  {
   "cell_type": "markdown",
   "metadata": {},
   "source": [
    "### Inspection of rating frequency"
   ]
  },
  {
   "cell_type": "markdown",
   "metadata": {},
   "source": [
    "Show the aggregated number of ratings per year, including a proxy for graphical representation:"
   ]
  },
  {
   "cell_type": "code",
   "execution_count": 24,
   "metadata": {
    "scrolled": false
   },
   "outputs": [
    {
     "name": "stdout",
     "output_type": "stream",
     "text": [
      "Average number of ratings per year: 4384.17\n",
      "+----+-----+----------------------------------------------------------------------------------------------------+\n",
      "|year|count|count_bar                                                                                           |\n",
      "+----+-----+----------------------------------------------------------------------------------------------------+\n",
      "|1996|6040 |||||||||||||||||||||||||||||||||||||||||||||||||||||||||||||                                        |\n",
      "|1997|1916 ||||||||||||||||||||                                                                                 |\n",
      "|1998|507  ||||||                                                                                               |\n",
      "|1999|2439 |||||||||||||||||||||||||                                                                            |\n",
      "|2000|10061||||||||||||||||||||||||||||||||||||||||||||||||||||||||||||||||||||||||||||||||||||||||||||||||||||||\n",
      "|2001|3922 ||||||||||||||||||||||||||||||||||||||||                                                             |\n",
      "|2002|3478 |||||||||||||||||||||||||||||||||||                                                                  |\n",
      "|2003|4014 |||||||||||||||||||||||||||||||||||||||||                                                            |\n",
      "|2004|3279 |||||||||||||||||||||||||||||||||                                                                    |\n",
      "|2005|5813 |||||||||||||||||||||||||||||||||||||||||||||||||||||||||||                                          |\n",
      "|2006|4059 |||||||||||||||||||||||||||||||||||||||||                                                            |\n",
      "|2007|7114 ||||||||||||||||||||||||||||||||||||||||||||||||||||||||||||||||||||||||                             |\n",
      "|2008|4351 ||||||||||||||||||||||||||||||||||||||||||||                                                         |\n",
      "|2009|4158 ||||||||||||||||||||||||||||||||||||||||||                                                           |\n",
      "|2010|2301 ||||||||||||||||||||||||                                                                             |\n",
      "|2011|1690 |||||||||||||||||                                                                                    |\n",
      "|2012|4656 |||||||||||||||||||||||||||||||||||||||||||||||                                                      |\n",
      "|2013|1664 |||||||||||||||||                                                                                    |\n",
      "|2014|1439 |||||||||||||||                                                                                      |\n",
      "|2015|6616 |||||||||||||||||||||||||||||||||||||||||||||||||||||||||||||||||||                                  |\n",
      "|2016|6703 ||||||||||||||||||||||||||||||||||||||||||||||||||||||||||||||||||||                                 |\n",
      "|2017|8198 ||||||||||||||||||||||||||||||||||||||||||||||||||||||||||||||||||||||||||||||||||                   |\n",
      "|2018|6418 |||||||||||||||||||||||||||||||||||||||||||||||||||||||||||||||||                                    |\n",
      "+----+-----+----------------------------------------------------------------------------------------------------+\n",
      "\n"
     ]
    }
   ],
   "source": [
    "print(\"Average number of ratings per year: {}\".format(round(ratingsDF.count()/23, 2)))\n",
    "\n",
    "ratingsDF.groupBy(F.year(F.col(\"date\")).alias(\"year\"))\\\n",
    "         .count()\\\n",
    "         .orderBy(F.col(\"year\").asc())\\\n",
    "         .withColumn(\"count_bar\",(F.col(\"count\")/100).cast(IntegerType()))\\\n",
    "         .withColumn(\"count_bar\",F.expr(\"repeat('|',count_bar)\"))\\\n",
    "         .show(23,False)"
   ]
  },
  {
   "cell_type": "markdown",
   "metadata": {},
   "source": [
    "The years 2000, 2017 and 2007 comprise the largest amount of ratings over all users. Since 2015 the annual rating number has been consistently large compared to its historical scale.\n",
    "\n",
    "Show the average monthly number of ratings:"
   ]
  },
  {
   "cell_type": "code",
   "execution_count": 25,
   "metadata": {},
   "outputs": [
    {
     "name": "stdout",
     "output_type": "stream",
     "text": [
      "+-----+------------------+\n",
      "|month|avg_number_ratings|\n",
      "+-----+------------------+\n",
      "|    5|            473.13|\n",
      "|   11|            439.77|\n",
      "|    8|            412.41|\n",
      "|    1|            391.86|\n",
      "|    9|            386.82|\n",
      "|    6|            383.83|\n",
      "|    3|            382.35|\n",
      "|    4|            371.95|\n",
      "|    2|            349.91|\n",
      "|   10|            324.95|\n",
      "|   12|            311.14|\n",
      "|    7|            302.17|\n",
      "+-----+------------------+\n",
      "\n"
     ]
    }
   ],
   "source": [
    "ratingsDF.groupBy(F.year(F.col(\"date\")),F.month(F.col(\"date\")).alias(\"month\"))\\\n",
    "         .count()\\\n",
    "         .groupBy(F.col(\"month\"))\\\n",
    "         .agg(F.round(F.mean(F.col(\"count\")),2).alias(\"avg_number_ratings\"))\\\n",
    "         .orderBy(F.col(\"avg_number_ratings\").desc())\\\n",
    "         .show(12)"
   ]
  },
  {
   "cell_type": "markdown",
   "metadata": {},
   "source": [
    "May and November have been on average the months with historically more rating activity, which is somewhat surprising as they precede the typical holiday months.\n",
    "\n",
    "Show the rating levels distribution:"
   ]
  },
  {
   "cell_type": "code",
   "execution_count": 26,
   "metadata": {},
   "outputs": [
    {
     "name": "stdout",
     "output_type": "stream",
     "text": [
      "+------+-----+-----------------------------------------------------------------------------------------+\n",
      "|rating|count|count_bar                                                                                |\n",
      "+------+-----+-----------------------------------------------------------------------------------------+\n",
      "|5.0   |13211|||||||||||||||||||||||||||||||||||||||||||||                                             |\n",
      "|4.5   |8551 |||||||||||||||||||||||||||||                                                             |\n",
      "|4.0   |26818|||||||||||||||||||||||||||||||||||||||||||||||||||||||||||||||||||||||||||||||||||||||||||\n",
      "|3.5   |13136||||||||||||||||||||||||||||||||||||||||||||                                              |\n",
      "|3.0   |20047|||||||||||||||||||||||||||||||||||||||||||||||||||||||||||||||||||                       |\n",
      "|2.5   |5550 |||||||||||||||||||                                                                       |\n",
      "|2.0   |7551 ||||||||||||||||||||||||||                                                                |\n",
      "|1.5   |1791 ||||||                                                                                    |\n",
      "|1.0   |2811 ||||||||||                                                                                |\n",
      "|0.5   |1370 |||||                                                                                     |\n",
      "+------+-----+-----------------------------------------------------------------------------------------+\n",
      "\n"
     ]
    }
   ],
   "source": [
    "ratingsDF.groupBy(F.col(\"rating\"))\\\n",
    "         .count()\\\n",
    "         .orderBy(F.col(\"rating\").desc())\\\n",
    "         .withColumn(\"count_bar\",(F.col(\"count\")/300).cast(IntegerType()))\\\n",
    "         .withColumn(\"count_bar\",F.expr(\"repeat('|',count_bar)\"))\\\n",
    "         .show(10,False)"
   ]
  },
  {
   "cell_type": "markdown",
   "metadata": {},
   "source": [
    "4.0 and 3.0 are significantly more frequent than any other rating level. The distribution also shows that users are more prone to giving ratings above 3.0."
   ]
  },
  {
   "cell_type": "markdown",
   "metadata": {},
   "source": [
    "## Data exploration"
   ]
  },
  {
   "cell_type": "markdown",
   "metadata": {},
   "source": [
    "All movies listed in moviesDF have been reviewed or tagged (or both) at least once. The majority of movies (8170) have a rating but not a tag, some (1554) have both a rating and a tag, and a small minority (18) have a tag but not a rating.\n",
    "\n",
    "Show and explore the 18 movies that are tagged but not rated:"
   ]
  },
  {
   "cell_type": "code",
   "execution_count": 27,
   "metadata": {},
   "outputs": [],
   "source": [
    "movies_ratingsDF = moviesDF.join(ratingsDF, \"movieId\", \"left_outer\")"
   ]
  },
  {
   "cell_type": "code",
   "execution_count": 28,
   "metadata": {},
   "outputs": [],
   "source": [
    "tagged_unrated_movies = movies_ratingsDF.select(F.col(\"movieId\"))\\\n",
    "                                        .where(F.col(\"userId\").isNull())\n",
    "\n",
    "tagged_unrated_movies = [row.movieId for row in tagged_unrated_movies.collect()]"
   ]
  },
  {
   "cell_type": "code",
   "execution_count": 29,
   "metadata": {},
   "outputs": [
    {
     "name": "stdout",
     "output_type": "stream",
     "text": [
      "+--------------------------------------------+------------------------+-----------+\n",
      "|title                                       |genres                  |releaseYear|\n",
      "+--------------------------------------------+------------------------+-----------+\n",
      "|Innocents, The (1961)                       |Drama|Horror|Thriller   |1961       |\n",
      "|Niagara (1953)                              |Drama|Thriller          |1953       |\n",
      "|For All Mankind (1989)                      |Documentary             |1989       |\n",
      "|Color of Paradise, The (Rang-e khoda) (1999)|Drama                   |1999       |\n",
      "|I Know Where I'm Going! (1945)              |Drama|Romance|War       |1945       |\n",
      "|Chosen, The (1981)                          |Drama                   |1981       |\n",
      "|Road Home, The (Wo de fu qin mu qin) (1999) |Drama|Romance           |1999       |\n",
      "|Scrooge (1970)                              |Drama|Fantasy|Musical   |1970       |\n",
      "|Proof (1991)                                |Comedy|Drama|Romance    |1991       |\n",
      "|Parallax View, The (1974)                   |Thriller                |1974       |\n",
      "|This Gun for Hire (1942)                    |Crime|Film-Noir|Thriller|1942       |\n",
      "|Roaring Twenties, The (1939)                |Crime|Drama|Thriller    |1939       |\n",
      "|Mutiny on the Bounty (1962)                 |Adventure|Drama|Romance |1962       |\n",
      "|In the Realms of the Unreal (2004)          |Animation|Documentary   |2004       |\n",
      "|Twentieth Century (1934)                    |Comedy                  |1934       |\n",
      "|Call Northside 777 (1948)                   |Crime|Drama|Film-Noir   |1948       |\n",
      "|Browning Version, The (1951)                |Drama                   |1951       |\n",
      "|Chalet Girl (2011)                          |Comedy|Romance          |2011       |\n",
      "+--------------------------------------------+------------------------+-----------+\n",
      "\n"
     ]
    }
   ],
   "source": [
    "movies_ratingsDF.select(\"title\",\"genres\")\\\n",
    "                .where(F.col(\"movieId\").isin(tagged_unrated_movies))\\\n",
    "                .withColumn(\"releaseYear\",F.substring(\"title\",-5,4).cast(IntegerType()))\\\n",
    "                .show(18,False)"
   ]
  },
  {
   "cell_type": "markdown",
   "metadata": {},
   "source": [
    "These movies have not (yet) been rated by any user, and hence it can be problematic to resort to them for recommendation purposes.\n",
    "\n",
    "Explore the movies that have rating but no tag:"
   ]
  },
  {
   "cell_type": "code",
   "execution_count": 30,
   "metadata": {},
   "outputs": [],
   "source": [
    "movies_tagsDF = moviesDF.join(tagsDF, \"movieId\", \"left_outer\")"
   ]
  },
  {
   "cell_type": "code",
   "execution_count": 31,
   "metadata": {},
   "outputs": [],
   "source": [
    "rated_untagged_movies = movies_tagsDF.select(F.col(\"movieId\"))\\\n",
    "                                     .where(F.col(\"userId\").isNull())\n",
    "\n",
    "rated_untagged_movies = [row.movieId for row in rated_untagged_movies.collect()]"
   ]
  },
  {
   "cell_type": "code",
   "execution_count": 32,
   "metadata": {},
   "outputs": [
    {
     "name": "stdout",
     "output_type": "stream",
     "text": [
      "Only 360 out of 8170 rated untagged movies have more than 30 reviews\n"
     ]
    }
   ],
   "source": [
    "rated_untaggedDF = movies_ratingsDF.select(\"title\",\"genres\",\"rating\")\\\n",
    "                                   .where(F.col(\"movieId\").isin(rated_untagged_movies))\\\n",
    "                                   .groupBy(F.col(\"title\"))\\\n",
    "                                   .agg(F.round(F.mean(F.col(\"rating\")),2).alias(\"avg_rating\"),\n",
    "                                        F.count(\"*\").alias(\"count_ratings\"))\\\n",
    "                                   .where(\"count_ratings > 30\")\n",
    "\n",
    "print(\"Only {0} out of {1} rated untagged movies have more than 30 reviews\".format(rated_untaggedDF.count(),\n",
    "                                                                                   len(rated_untagged_movies)))"
   ]
  },
  {
   "cell_type": "markdown",
   "metadata": {},
   "source": [
    "Focusing on the rated untagged movies *with more than 30 user ratings*, show the top 10 movies in terms of average rating and number of ratings:"
   ]
  },
  {
   "cell_type": "code",
   "execution_count": 33,
   "metadata": {},
   "outputs": [
    {
     "name": "stdout",
     "output_type": "stream",
     "text": [
      "+----------------------------------------------------------+----------+-------------+\n",
      "|title                                                     |avg_rating|count_ratings|\n",
      "+----------------------------------------------------------+----------+-------------+\n",
      "|Boondock Saints, The (2000)                               |4.22      |43           |\n",
      "|Brazil (1985)                                             |4.18      |59           |\n",
      "|Cinema Paradiso (Nuovo cinema Paradiso) (1989)            |4.16      |34           |\n",
      "|Snatch (2000)                                             |4.16      |93           |\n",
      "|For a Few Dollars More (Per qualche dollaro in più) (1965)|4.15      |33           |\n",
      "|Lives of Others, The (Das leben der Anderen) (2006)       |4.12      |34           |\n",
      "|Toy Story 3 (2010)                                        |4.11      |55           |\n",
      "|Boogie Nights (1997)                                      |4.08      |39           |\n",
      "|American Beauty (1999)                                    |4.06      |204          |\n",
      "|Lock, Stock & Two Smoking Barrels (1998)                  |4.05      |67           |\n",
      "+----------------------------------------------------------+----------+-------------+\n",
      "only showing top 10 rows\n",
      "\n",
      "+--------------------------------------------+----------+-------------+\n",
      "|title                                       |avg_rating|count_ratings|\n",
      "+--------------------------------------------+----------+-------------+\n",
      "|American Beauty (1999)                      |4.06      |204          |\n",
      "|Ace Ventura: Pet Detective (1994)           |3.04      |161          |\n",
      "|Mask, The (1994)                            |3.18      |157          |\n",
      "|Die Hard (1988)                             |3.86      |145          |\n",
      "|Die Hard: With a Vengeance (1995)           |3.56      |144          |\n",
      "|Groundhog Day (1993)                        |3.94      |143          |\n",
      "|Dumb & Dumber (Dumb and Dumber) (1994)      |3.06      |133          |\n",
      "|GoldenEye (1995)                            |3.5       |132          |\n",
      "|Monsters, Inc. (2001)                       |3.87      |132          |\n",
      "|Austin Powers: The Spy Who Shagged Me (1999)|3.2       |121          |\n",
      "+--------------------------------------------+----------+-------------+\n",
      "only showing top 10 rows\n",
      "\n"
     ]
    }
   ],
   "source": [
    "rated_untaggedDF.orderBy(F.col(\"avg_rating\").desc())\\\n",
    "                .show(10,truncate=False)\n",
    "\n",
    "rated_untaggedDF.orderBy(F.col(\"count_ratings\").desc())\\\n",
    "                .show(10,truncate=False)"
   ]
  },
  {
   "cell_type": "markdown",
   "metadata": {},
   "source": [
    "More succinctly, the average rating and rating count of the set of movies above spans over the following intervals:"
   ]
  },
  {
   "cell_type": "code",
   "execution_count": 34,
   "metadata": {},
   "outputs": [
    {
     "name": "stdout",
     "output_type": "stream",
     "text": [
      "+---------------+---------------+------------------+------------------+\n",
      "|max(avg_rating)|min(avg_rating)|max(count_ratings)|min(count_ratings)|\n",
      "+---------------+---------------+------------------+------------------+\n",
      "|           4.22|           1.95|               204|                31|\n",
      "+---------------+---------------+------------------+------------------+\n",
      "\n"
     ]
    }
   ],
   "source": [
    "rated_untaggedDF.select(\"avg_rating\",\"count_ratings\").groupBy()\\\n",
    "                .agg(F.max(\"avg_rating\"),F.min(\"avg_rating\"),\n",
    "                     F.max(\"count_ratings\"),F.min(\"count_ratings\"))\\\n",
    "                .show()"
   ]
  },
  {
   "cell_type": "markdown",
   "metadata": {},
   "source": [
    "Tag exploration. What is the average number of tags per movie in tagsDF? And the average number of tags per user? How does it compare with the average number of tags a user assigns to a movie?"
   ]
  },
  {
   "cell_type": "code",
   "execution_count": 35,
   "metadata": {},
   "outputs": [
    {
     "name": "stdout",
     "output_type": "stream",
     "text": [
      "+------------------+\n",
      "|avg_tags_per_movie|\n",
      "+------------------+\n",
      "|               2.3|\n",
      "+------------------+\n",
      "\n",
      "+-----------------+\n",
      "|avg_tags_per_user|\n",
      "+-----------------+\n",
      "|             63.5|\n",
      "+-----------------+\n",
      "\n",
      "+---------------------------+\n",
      "|avg_tags_per_user_per_movie|\n",
      "+---------------------------+\n",
      "|                        2.1|\n",
      "+---------------------------+\n",
      "\n"
     ]
    }
   ],
   "source": [
    "tagsDF.groupBy(F.col(\"movieId\"))\\\n",
    "      .count()\\\n",
    "      .agg(F.round(F.mean(F.col(\"count\")),1).alias(\"avg_tags_per_movie\"))\\\n",
    "      .show()\n",
    "\n",
    "tagsDF.groupBy(F.col(\"userId\"))\\\n",
    "      .count()\\\n",
    "      .agg(F.mean(F.col(\"count\")).alias(\"avg_tags_per_user\"))\\\n",
    "      .show()\n",
    "\n",
    "tagsDF.groupBy(F.col(\"userId\"),F.col(\"movieId\"))\\\n",
    "      .count()\\\n",
    "      .agg(F.round(F.mean(F.col(\"count\")),1).alias(\"avg_tags_per_user_per_movie\"))\\\n",
    "      .show()"
   ]
  },
  {
   "cell_type": "markdown",
   "metadata": {},
   "source": [
    "Identify the users that tagged movies without rating them:"
   ]
  },
  {
   "cell_type": "code",
   "execution_count": 36,
   "metadata": {},
   "outputs": [],
   "source": [
    "users_tag_notrate = tagsDF.select(F.col(\"userId\"))\\\n",
    "                          .where(F.col(\"movieId\").isin(tagged_unrated_movies))\n",
    "\n",
    "users_tag_notrate = [row.userId for row in users_tag_notrate.collect()]"
   ]
  },
  {
   "cell_type": "code",
   "execution_count": 37,
   "metadata": {},
   "outputs": [
    {
     "name": "stdout",
     "output_type": "stream",
     "text": [
      "Movies with tags but without rating:\n",
      "+--------------+---------------+---------------+\n",
      "|distinct_users|distinct_movies|total_tag_count|\n",
      "+--------------+---------------+---------------+\n",
      "|             4|             18|             21|\n",
      "+--------------+---------------+---------------+\n",
      "\n",
      "+------+--------------------------------------------+--------------------------+----------+\n",
      "|userId|title                                       |tag                       |date      |\n",
      "+------+--------------------------------------------+--------------------------+----------+\n",
      "|543   |Chalet Girl (2011)                          |Comedy                    |2013-08-20|\n",
      "|474   |Niagara (1953)                              |In Netflix queue          |2006-01-14|\n",
      "|474   |Innocents, The (1961)                       |governess                 |2006-01-17|\n",
      "|474   |I Know Where I'm Going! (1945)              |In Netflix queue          |2006-01-14|\n",
      "|474   |Chosen, The (1981)                          |Judaism                   |2006-01-14|\n",
      "|474   |Call Northside 777 (1948)                   |In Netflix queue          |2006-01-14|\n",
      "|474   |For All Mankind (1989)                      |In Netflix queue          |2006-01-14|\n",
      "|474   |Parallax View, The (1974)                   |In Netflix queue          |2006-01-14|\n",
      "|474   |This Gun for Hire (1942)                    |In Netflix queue          |2006-01-13|\n",
      "|474   |Roaring Twenties, The (1939)                |In Netflix queue          |2006-01-13|\n",
      "|474   |Mutiny on the Bounty (1962)                 |Not available from Netflix|2006-01-13|\n",
      "|474   |Twentieth Century (1934)                    |In Netflix queue          |2006-01-13|\n",
      "|474   |Browning Version, The (1951)                |In Netflix queue          |2006-01-14|\n",
      "|474   |Road Home, The (Wo de fu qin mu qin) (1999) |In Netflix queue          |2006-01-13|\n",
      "|474   |Chosen, The (1981)                          |In Netflix queue          |2006-01-14|\n",
      "|474   |Scrooge (1970)                              |Christmas                 |2006-01-16|\n",
      "|474   |Color of Paradise, The (Rang-e khoda) (1999)|In Netflix queue          |2006-01-14|\n",
      "|318   |In the Realms of the Unreal (2004)          |Henry Darger              |2009-04-19|\n",
      "|318   |In the Realms of the Unreal (2004)          |Documentary               |2009-04-19|\n",
      "|318   |In the Realms of the Unreal (2004)          |Animation                 |2009-04-19|\n",
      "|288   |Proof (1991)                                |Notable Nudity            |2006-06-22|\n",
      "+------+--------------------------------------------+--------------------------+----------+\n",
      "\n"
     ]
    }
   ],
   "source": [
    "print(\"Movies with tags but without rating:\")\n",
    "\n",
    "tagsDF.select(\"*\")\\\n",
    "      .where(F.col(\"movieId\").isin(tagged_unrated_movies))\\\n",
    "      .where(F.col(\"userId\").isin(users_tag_notrate))\\\n",
    "      .agg(F.countDistinct(\"userId\").alias(\"distinct_users\"),\n",
    "           F.countDistinct(\"movieId\").alias(\"distinct_movies\"),\n",
    "           F.count(F.lit(1)).alias(\"total_tag_count\"))\\\n",
    "      .show()\n",
    "\n",
    "movies_tagsDF.select(\"userId\",\"title\",\"tag\",\"date\")\\\n",
    "             .where(F.col(\"movieId\").isin(tagged_unrated_movies))\\\n",
    "             .where(F.col(\"userId\").isin(users_tag_notrate))\\\n",
    "             .orderBy(F.col(\"userId\").desc())\\\n",
    "             .show(21,False)"
   ]
  },
  {
   "cell_type": "markdown",
   "metadata": {},
   "source": [
    "About 2/3 of the tags above are not useful to infer how these users may rate these movies, as they relate to other aspects like queue status or movie availability.\n",
    "\n",
    "Rating exploration. What is the average number of ratings per user in ratings DF? And the average number of ratings per movie?"
   ]
  },
  {
   "cell_type": "code",
   "execution_count": 38,
   "metadata": {},
   "outputs": [
    {
     "name": "stdout",
     "output_type": "stream",
     "text": [
      "+--------------------+\n",
      "|avg_ratings_per_user|\n",
      "+--------------------+\n",
      "|               165.3|\n",
      "+--------------------+\n",
      "\n",
      "+---------------------+\n",
      "|avg_ratings_per_movie|\n",
      "+---------------------+\n",
      "|                 10.4|\n",
      "+---------------------+\n",
      "\n"
     ]
    }
   ],
   "source": [
    "ratingsDF.groupBy(F.col(\"userId\"))\\\n",
    "         .count()\\\n",
    "         .agg(F.round(F.mean(F.col(\"count\")),1).alias(\"avg_ratings_per_user\"))\\\n",
    "         .show()\n",
    "\n",
    "ratingsDF.groupBy(F.col(\"movieId\"))\\\n",
    "         .count()\\\n",
    "         .agg(F.round(F.mean(F.col(\"count\")),1).alias(\"avg_ratings_per_movie\"))\\\n",
    "         .show()"
   ]
  },
  {
   "cell_type": "markdown",
   "metadata": {},
   "source": [
    "## Basic investigation on service oriented business questions"
   ]
  },
  {
   "cell_type": "markdown",
   "metadata": {},
   "source": [
    "### What is the predominant (frequency based) genre per rating level?"
   ]
  },
  {
   "cell_type": "code",
   "execution_count": 39,
   "metadata": {},
   "outputs": [
    {
     "name": "stdout",
     "output_type": "stream",
     "text": [
      "+-----+------+-----------------+\n",
      "|count|rating|predominant_genre|\n",
      "+-----+------+-----------------+\n",
      "|  895|   5.0|            Drama|\n",
      "|  593|   4.5|            Drama|\n",
      "| 2055|   4.0|            Drama|\n",
      "|  854|   3.5|           Comedy|\n",
      "| 1614|   3.0|           Comedy|\n",
      "|  515|   2.5|           Comedy|\n",
      "|  828|   2.0|           Comedy|\n",
      "|  256|   1.5|           Comedy|\n",
      "|  348|   1.0|           Comedy|\n",
      "|  136|   0.5|           Comedy|\n",
      "+-----+------+-----------------+\n",
      "\n"
     ]
    }
   ],
   "source": [
    "rating_maxcountDF = movies_ratingsDF.where(\"userId is not null\")\\\n",
    "                                    .groupBy(F.col(\"rating\"),F.col(\"genres\"))\\\n",
    "                                    .count()\\\n",
    "                                    .groupBy(\"rating\").agg(F.max(F.col(\"count\")).alias(\"count\"))\n",
    "                                            \n",
    "rating_maxcountDF.join(movies_ratingsDF.where(\"userId is not null\")\\\n",
    "                                       .groupBy(F.col(\"rating\"),F.col(\"genres\"))\\\n",
    "                                       .count(),\n",
    "                       [\"count\",\"rating\"])\\\n",
    "                 .withColumnRenamed(\"genres\",\"predominant_genre\")\\\n",
    "                 .orderBy(F.col(\"rating\").desc())\\\n",
    "                 .show()"
   ]
  },
  {
   "cell_type": "markdown",
   "metadata": {},
   "source": [
    "The classic genres (pure drama/comedy) account for the most frequent ratings on every level. This is partly expected because Drama and Comedy (out of the 951 distinct genre combinations) account for roughly 20% of all movies in moviesDF:"
   ]
  },
  {
   "cell_type": "code",
   "execution_count": 40,
   "metadata": {},
   "outputs": [
    {
     "name": "stdout",
     "output_type": "stream",
     "text": [
      "+--------------------+-----+-------------+\n",
      "|genres              |count|proportion(%)|\n",
      "+--------------------+-----+-------------+\n",
      "|Drama               |1053 |10.809       |\n",
      "|Comedy              |946  |9.711        |\n",
      "|Comedy|Drama        |435  |4.465        |\n",
      "|Comedy|Romance      |363  |3.726        |\n",
      "|Drama|Romance       |349  |3.582        |\n",
      "|Documentary         |339  |3.48         |\n",
      "|Comedy|Drama|Romance|276  |2.833        |\n",
      "|Drama|Thriller      |168  |1.724        |\n",
      "|Horror              |167  |1.714        |\n",
      "|Horror|Thriller     |135  |1.386        |\n",
      "+--------------------+-----+-------------+\n",
      "only showing top 10 rows\n",
      "\n"
     ]
    }
   ],
   "source": [
    "moviesDF.groupBy(F.col(\"genres\")).count()\\\n",
    "        .withColumn(\"proportion(%)\",F.round(F.col(\"count\")/(moviesDF.count())*100,3))\\\n",
    "        .orderBy(F.col(\"count\").desc())\\\n",
    "        .show(10,False)"
   ]
  },
  {
   "cell_type": "markdown",
   "metadata": {},
   "source": [
    "This is further illustrated below, where the top 10 most/least rated genres are shown:"
   ]
  },
  {
   "cell_type": "code",
   "execution_count": 41,
   "metadata": {},
   "outputs": [
    {
     "name": "stdout",
     "output_type": "stream",
     "text": [
      "+-------------------------+-------------+\n",
      "|genres                   |count_ratings|\n",
      "+-------------------------+-------------+\n",
      "|Comedy                   |7196         |\n",
      "|Drama                    |6291         |\n",
      "|Comedy|Romance           |3967         |\n",
      "|Comedy|Drama|Romance     |3000         |\n",
      "|Comedy|Drama             |2851         |\n",
      "|Drama|Romance            |2838         |\n",
      "|Action|Adventure|Sci-Fi  |2361         |\n",
      "|Crime|Drama              |2315         |\n",
      "|Action|Crime|Thriller    |1554         |\n",
      "|Action|Adventure|Thriller|1455         |\n",
      "+-------------------------+-------------+\n",
      "only showing top 10 rows\n",
      "\n",
      "+------------------------------------------------------+-------------+\n",
      "|genres                                                |count_ratings|\n",
      "+------------------------------------------------------+-------------+\n",
      "|Action|Animation|Comedy|Fantasy                       |1            |\n",
      "|Comedy|Drama|Fantasy|Mystery|Romance                  |1            |\n",
      "|Documentary|Drama|Thriller                            |1            |\n",
      "|Action|Adventure|Drama|Fantasy|Romance|Sci-Fi|Thriller|1            |\n",
      "|Comedy|Crime|Drama|Western                            |1            |\n",
      "|Action|Animation|Film-Noir|Sci-Fi|Thriller            |1            |\n",
      "|Adventure|Crime|Drama|Romance                         |1            |\n",
      "|Horror|Thriller|IMAX                                  |1            |\n",
      "|Documentary|Musical|IMAX                              |1            |\n",
      "|Horror|Romance|Sci-Fi                                 |1            |\n",
      "+------------------------------------------------------+-------------+\n",
      "only showing top 10 rows\n",
      "\n"
     ]
    }
   ],
   "source": [
    "movies_ratingsDF.groupBy(\"genres\")\\\n",
    "                .agg(F.count(\"rating\").alias(\"count_ratings\"))\\\n",
    "                .orderBy(F.col(\"count_ratings\").desc())\\\n",
    "                .show(10,False)\n",
    "\n",
    "movies_ratingsDF.groupBy(\"genres\")\\\n",
    "                .agg(F.count(\"rating\").alias(\"count_ratings\"))\\\n",
    "                .orderBy(F.col(\"count_ratings\").asc())\\\n",
    "                .show(10,False)"
   ]
  },
  {
   "cell_type": "markdown",
   "metadata": {},
   "source": [
    "Unconventional genre combinations (e.g. horror|romance|sci-fi) barely have any ratings, as such movies are uncommon and typically not compelling to a wide audience. In comparison, what are the top 10 genres in terms of average rating (with more than 30 ratings for a genre to be considered)?"
   ]
  },
  {
   "cell_type": "code",
   "execution_count": 42,
   "metadata": {},
   "outputs": [
    {
     "name": "stdout",
     "output_type": "stream",
     "text": [
      "+-----------------------------------------+----------+-------------+\n",
      "|genres                                   |avg_rating|count_ratings|\n",
      "+-----------------------------------------+----------+-------------+\n",
      "|Action|Crime|Drama|IMAX                  |4.23      |151          |\n",
      "|Action|Adventure|Comedy|Fantasy|Romance  |4.23      |144          |\n",
      "|Drama|Film-Noir|Romance                  |4.18      |33           |\n",
      "|Action|Adventure|Mystery|Romance|Thriller|4.18      |57           |\n",
      "|Film-Noir|Mystery                        |4.17      |44           |\n",
      "|Fantasy|Sci-Fi                           |4.16      |61           |\n",
      "|Comedy|Drama|Romance|War                 |4.16      |421          |\n",
      "|Action|Adventure|Crime|Drama|Thriller    |4.15      |75           |\n",
      "|Action|Adventure|Western                 |4.14      |73           |\n",
      "|Comedy|Crime|Drama|Thriller              |4.13      |563          |\n",
      "+-----------------------------------------+----------+-------------+\n",
      "only showing top 10 rows\n",
      "\n"
     ]
    }
   ],
   "source": [
    "movies_ratingsDF.groupBy(\"genres\")\\\n",
    "                .agg(F.round(F.mean(\"rating\"),2).alias(\"avg_rating\"),\n",
    "                     F.count(\"rating\").alias(\"count_ratings\"))\\\n",
    "                .where(\"count_ratings > 30\")\\\n",
    "                .orderBy(F.col(\"avg_rating\").desc())\\\n",
    "                .show(10,False)"
   ]
  },
  {
   "cell_type": "markdown",
   "metadata": {},
   "source": [
    "The genres with highest average rating are combined rather than 'pure'. *Drama*, *Action* and *Comedy* appear in a notable proportion of the combinations."
   ]
  },
  {
   "cell_type": "markdown",
   "metadata": {},
   "source": [
    "### What is the predominant tag per genre and the most tagged genres?"
   ]
  },
  {
   "cell_type": "code",
   "execution_count": 43,
   "metadata": {},
   "outputs": [
    {
     "name": "stdout",
     "output_type": "stream",
     "text": [
      "+-----+----------------------------+------------------+\n",
      "|count|genres                      |tag               |\n",
      "+-----+----------------------------+------------------+\n",
      "|36   |Drama                       |In Netflix queue  |\n",
      "|14   |Documentary                 |In Netflix queue  |\n",
      "|8    |Drama|Romance               |In Netflix queue  |\n",
      "|7    |Comedy                      |In Netflix queue  |\n",
      "|7    |Comedy                      |comedy            |\n",
      "|6    |Comedy|Musical|Romance      |Astaire and Rogers|\n",
      "|6    |Action|Adventure|Sci-Fi     |superhero         |\n",
      "|6    |Crime|Drama                 |Mafia             |\n",
      "|6    |Comedy|Drama                |In Netflix queue  |\n",
      "|5    |Horror                      |Jason             |\n",
      "|5    |Drama|War                   |Vietnam           |\n",
      "|5    |Comedy|Drama|Romance        |In Netflix queue  |\n",
      "|4    |Action|Sci-Fi|Thriller      |sci-fi            |\n",
      "|4    |Comedy|Romance              |Hepburn and Tracy |\n",
      "|4    |Horror|Thriller             |ghosts            |\n",
      "|4    |Mystery|Thriller            |twist ending      |\n",
      "|4    |Mystery|Thriller            |mystery           |\n",
      "|4    |Comedy|Romance              |New York          |\n",
      "|4    |Comedy|Crime|Drama|Thriller |dark comedy       |\n",
      "|3    |Crime|Drama|Mystery|Thriller|twist ending      |\n",
      "+-----+----------------------------+------------------+\n",
      "only showing top 20 rows\n",
      "\n"
     ]
    }
   ],
   "source": [
    "tag_maxcountDF = movies_tagsDF.where(\"userId is not null\")\\\n",
    "                              .groupBy(F.col(\"tag\"),F.col(\"genres\"))\\\n",
    "                              .count()\\\n",
    "                              .groupBy(\"genres\").agg(F.max(F.col(\"count\")).alias(\"count\"))\n",
    "                                            \n",
    "tag_maxcountDF.join(movies_tagsDF.where(\"userId is not null\")\\\n",
    "                                 .groupBy(F.col(\"tag\"),F.col(\"genres\"))\\\n",
    "                                 .count(),\n",
    "                    [\"count\",\"genres\"])\\\n",
    "              .orderBy(F.col(\"count\").desc())\\\n",
    "              .show(truncate=False)"
   ]
  },
  {
   "cell_type": "markdown",
   "metadata": {},
   "source": [
    "About half of the most frequent tags are actually platform related, as they refer to the corresponding movie queue status instead of the movie contents."
   ]
  },
  {
   "cell_type": "markdown",
   "metadata": {},
   "source": [
    "### What are the most predominant (popularity based) movies?"
   ]
  },
  {
   "cell_type": "markdown",
   "metadata": {},
   "source": [
    "Top 10 movies in terms of **number of ratings**:"
   ]
  },
  {
   "cell_type": "code",
   "execution_count": 44,
   "metadata": {},
   "outputs": [
    {
     "name": "stdout",
     "output_type": "stream",
     "text": [
      "+-----------------------------------------+-------------+----------+\n",
      "|title                                    |count_ratings|avg_rating|\n",
      "+-----------------------------------------+-------------+----------+\n",
      "|Forrest Gump (1994)                      |329          |4.164     |\n",
      "|Shawshank Redemption, The (1994)         |317          |4.429     |\n",
      "|Pulp Fiction (1994)                      |307          |4.197     |\n",
      "|Silence of the Lambs, The (1991)         |279          |4.161     |\n",
      "|Matrix, The (1999)                       |278          |4.192     |\n",
      "|Star Wars: Episode IV - A New Hope (1977)|251          |4.231     |\n",
      "|Jurassic Park (1993)                     |238          |3.75      |\n",
      "|Braveheart (1995)                        |237          |4.032     |\n",
      "|Terminator 2: Judgment Day (1991)        |224          |3.971     |\n",
      "|Schindler's List (1993)                  |220          |4.225     |\n",
      "+-----------------------------------------+-------------+----------+\n",
      "only showing top 10 rows\n",
      "\n"
     ]
    }
   ],
   "source": [
    "movies_ratingsDF.groupBy(\"title\")\\\n",
    "                .agg(F.count(\"rating\").alias(\"count_ratings\"),\n",
    "                     F.round(F.mean(\"rating\"),3).alias(\"avg_rating\"))\\\n",
    "                .orderBy(F.col(\"count_ratings\").desc())\\\n",
    "                .show(10,False)"
   ]
  },
  {
   "cell_type": "markdown",
   "metadata": {},
   "source": [
    "Top 10 movies in terms of **average rating** (*provided more than 30 users reviewed them*):"
   ]
  },
  {
   "cell_type": "code",
   "execution_count": 45,
   "metadata": {},
   "outputs": [
    {
     "name": "stdout",
     "output_type": "stream",
     "text": [
      "+---------------------------------------------------------------------------+-------------+----------+\n",
      "|title                                                                      |count_ratings|avg_rating|\n",
      "+---------------------------------------------------------------------------+-------------+----------+\n",
      "|Shawshank Redemption, The (1994)                                           |317          |4.429     |\n",
      "|Lawrence of Arabia (1962)                                                  |45           |4.3       |\n",
      "|Godfather, The (1972)                                                      |192          |4.289     |\n",
      "|Fight Club (1999)                                                          |218          |4.273     |\n",
      "|Cool Hand Luke (1967)                                                      |57           |4.272     |\n",
      "|Dr. Strangelove or: How I Learned to Stop Worrying and Love the Bomb (1964)|97           |4.268     |\n",
      "|Rear Window (1954)                                                         |84           |4.262     |\n",
      "|Godfather: Part II, The (1974)                                             |129          |4.26      |\n",
      "|Departed, The (2006)                                                       |107          |4.252     |\n",
      "|Goodfellas (1990)                                                          |126          |4.25      |\n",
      "+---------------------------------------------------------------------------+-------------+----------+\n",
      "only showing top 10 rows\n",
      "\n"
     ]
    }
   ],
   "source": [
    "movies_ratingsDF.groupBy(\"title\")\\\n",
    "                .agg(F.count(\"rating\").alias(\"count_ratings\"),\n",
    "                     F.round(F.mean(\"rating\"),3).alias(\"avg_rating\"))\\\n",
    "                .where(\"count_ratings > 30\")\\\n",
    "                .orderBy(F.col(\"avg_rating\").desc())\\\n",
    "                .show(10,False)"
   ]
  },
  {
   "cell_type": "markdown",
   "metadata": {},
   "source": [
    "Interestingly, the above tables only have one movie in common (Shawshank Redemption), which suggests that some distinction must be made between movies that are generally liked and movies that are widely watched."
   ]
  },
  {
   "cell_type": "markdown",
   "metadata": {},
   "source": [
    "### Do popular movies belong to a particular time frame?"
   ]
  },
  {
   "cell_type": "markdown",
   "metadata": {},
   "source": [
    "Taking as reference the tables above, 9/10 of the top 10 movies by **number of ratings** are from the 1990s.\n",
    "\n",
    "In the table of the top 10 movies by **average rating**, the distribution is:\n",
    "\n",
    "* 3/10 from the 1990s\n",
    "* 3/10 from the 1960s\n",
    "* 2/10 from the 1970s\n",
    "* 1/10 from the 1950s\n",
    "* 1/10 from the 2000s\n",
    "\n",
    "Show a distribution of the database movies per release decade, and see how it compares with this:"
   ]
  },
  {
   "cell_type": "code",
   "execution_count": 46,
   "metadata": {},
   "outputs": [
    {
     "name": "stdout",
     "output_type": "stream",
     "text": [
      "+----------------+----------------+\n",
      "|min(releaseYear)|max(releaseYear)|\n",
      "+----------------+----------------+\n",
      "|            1902|            2018|\n",
      "+----------------+----------------+\n",
      "\n"
     ]
    },
    {
     "data": {
      "text/plain": [
       "[Row(title='\"11\\'09\"\"01 - September 11 (2002)\"', releaseYear=None),\n",
       " Row(title='Babylon 5', releaseYear=None),\n",
       " Row(title='Ready Player One', releaseYear=None),\n",
       " Row(title='Hyena Road', releaseYear=None),\n",
       " Row(title='The Adventures of Sherlock Holmes and Doctor Watson', releaseYear=None),\n",
       " Row(title='Nocturnal Animals', releaseYear=None),\n",
       " Row(title='Paterson', releaseYear=None),\n",
       " Row(title='Moonlight', releaseYear=None),\n",
       " Row(title='The OA', releaseYear=None),\n",
       " Row(title='Cosmos', releaseYear=None),\n",
       " Row(title='Maria Bamford: Old Baby', releaseYear=None),\n",
       " Row(title='Generation Iron 2', releaseYear=None),\n",
       " Row(title='Black Mirror', releaseYear=None)]"
      ]
     },
     "execution_count": 46,
     "metadata": {},
     "output_type": "execute_result"
    }
   ],
   "source": [
    "moviesDF.select(\"title\",\"genres\")\\\n",
    "        .withColumn(\"releaseYear\",F.substring(F.rtrim(F.col(\"title\")),-5,4).cast(IntegerType()))\\\n",
    "        .groupBy().agg(F.min(\"releaseYear\"),\n",
    "                       F.max(\"releaseYear\"))\\\n",
    "        .show()\n",
    "\n",
    "moviesDF.select(\"title\",\"genres\")\\\n",
    "        .withColumn(\"releaseYear\",F.substring(F.rtrim(F.col(\"title\")),-5,4).cast(IntegerType()))\\\n",
    "        .select(F.col(\"title\"),F.col(\"releaseYear\"))\\\n",
    "        .where(\"releaseYear is null\")\\\n",
    "        .collect()"
   ]
  },
  {
   "cell_type": "markdown",
   "metadata": {},
   "source": [
    "The 13 movie titles above do not have the same format as the rest (as warned in the disclaimer) and extracting their release year is more involved. They will be disregarded for the time being.\n",
    "\n",
    "Create a new column showing the release decade and aggregate by counting per decade:"
   ]
  },
  {
   "cell_type": "code",
   "execution_count": 47,
   "metadata": {},
   "outputs": [
    {
     "name": "stdout",
     "output_type": "stream",
     "text": [
      "+-------------+-----------+-------------+-----------------------------------------------------------------------+\n",
      "|releaseDecade|movie_count|proportion(%)|count_bar                                                              |\n",
      "+-------------+-----------+-------------+-----------------------------------------------------------------------+\n",
      "|1900s        |3          |0.03         |                                                                       |\n",
      "|1910s        |7          |0.07         |                                                                       |\n",
      "|1920s        |37         |0.38         |                                                                       |\n",
      "|1930s        |136        |1.4          ||||                                                                    |\n",
      "|1940s        |197        |2.02         |||||                                                                   |\n",
      "|1950s        |279        |2.87         |||||||                                                                 |\n",
      "|1960s        |401        |4.12         |||||||||||                                                             |\n",
      "|1970s        |500        |5.14         |||||||||||||                                                           |\n",
      "|1980s        |1177       |12.1         ||||||||||||||||||||||||||||||                                          |\n",
      "|1990s        |2212       |22.74        ||||||||||||||||||||||||||||||||||||||||||||||||||||||||                |\n",
      "|2000s        |2849       |29.28        |||||||||||||||||||||||||||||||||||||||||||||||||||||||||||||||||||||||||\n",
      "|2010s        |1931       |19.85        |||||||||||||||||||||||||||||||||||||||||||||||||                       |\n",
      "+-------------+-----------+-------------+-----------------------------------------------------------------------+\n",
      "\n"
     ]
    }
   ],
   "source": [
    "moviesDF.select(\"title\",\"genres\")\\\n",
    "        .withColumn(\"releaseYear\",F.substring(F.rtrim(F.col(\"title\")),-5,4).cast(IntegerType()))\\\n",
    "        .withColumn(\"releaseDecade\", F.when((F.col(\"releaseYear\") >= 1900) & (F.col(\"releaseYear\") < 1910), \"1900s\")\\\n",
    "                                      .when((F.col(\"releaseYear\") >= 1910) & (F.col(\"releaseYear\") < 1920), \"1910s\")\\\n",
    "                                      .when((F.col(\"releaseYear\") >= 1920) & (F.col(\"releaseYear\") < 1930), \"1920s\")\\\n",
    "                                      .when((F.col(\"releaseYear\") >= 1930) & (F.col(\"releaseYear\") < 1940), \"1930s\")\\\n",
    "                                      .when((F.col(\"releaseYear\") >= 1940) & (F.col(\"releaseYear\") < 1950), \"1940s\")\\\n",
    "                                      .when((F.col(\"releaseYear\") >= 1950) & (F.col(\"releaseYear\") < 1960), \"1950s\")\\\n",
    "                                      .when((F.col(\"releaseYear\") >= 1960) & (F.col(\"releaseYear\") < 1970), \"1960s\")\\\n",
    "                                      .when((F.col(\"releaseYear\") >= 1970) & (F.col(\"releaseYear\") < 1980), \"1970s\")\\\n",
    "                                      .when((F.col(\"releaseYear\") >= 1980) & (F.col(\"releaseYear\") < 1990), \"1980s\")\\\n",
    "                                      .when((F.col(\"releaseYear\") >= 1990) & (F.col(\"releaseYear\") < 2000), \"1990s\")\\\n",
    "                                      .when((F.col(\"releaseYear\") >= 2000) & (F.col(\"releaseYear\") < 2010), \"2000s\")\\\n",
    "                                      .when((F.col(\"releaseYear\") >= 2010) & (F.col(\"releaseYear\") < 2020), \"2010s\"))\\\n",
    "        .where(\"releaseYear is not null\")\\\n",
    "        .groupBy(F.col(\"releaseDecade\"))\\\n",
    "        .count().withColumnRenamed(\"count\",\"movie_count\")\\\n",
    "        .withColumn(\"proportion(%)\", F.round(100 * F.col(\"movie_count\")/(moviesDF.count()-13), 2))\\\n",
    "        .orderBy(F.col(\"releaseDecade\").asc())\\\n",
    "        .withColumn(\"count_bar\",(F.col(\"movie_count\")/40).cast(IntegerType()))\\\n",
    "        .withColumn(\"count_bar\",F.expr(\"repeat('|',count_bar)\"))\\\n",
    "        .show(truncate=False)"
   ]
  },
  {
   "cell_type": "markdown",
   "metadata": {},
   "source": [
    "Most movies were released in the 2000s or the 1990s, though in fairness the 2010s decade is not completely represented in this dataset. It is noteworthy that movies from the 1950s-1970s are amongst the most popular (highly rated on average) despite comprising significantly fewer titles than more recent times. Put into perspective, though, 50 or 60 years ago the cinematographic industry could afford to produce less movies per year than nowadays, and the ones persisting in time (hence being incorporated into online platform catalogues) are largely classics prone to attract the audience."
   ]
  },
  {
   "cell_type": "markdown",
   "metadata": {},
   "source": [
    "### Training a recommendation engine to predict ratings"
   ]
  },
  {
   "cell_type": "code",
   "execution_count": 48,
   "metadata": {},
   "outputs": [],
   "source": [
    "als = ALS(maxIter=5, regParam=0.01, userCol=\"userId\", itemCol=\"movieId\", ratingCol=\"rating\",\n",
    "          coldStartStrategy=\"nan\", nonnegative=False)\n",
    "\n",
    "recommender = als.fit(ratingsDF.select(\"userId\",\"movieId\",\"rating\"))"
   ]
  },
  {
   "cell_type": "markdown",
   "metadata": {},
   "source": [
    "Could the recommendation engine be used to predict the rating of tagged unrated movies?"
   ]
  },
  {
   "cell_type": "code",
   "execution_count": 49,
   "metadata": {},
   "outputs": [
    {
     "name": "stdout",
     "output_type": "stream",
     "text": [
      "+------+-------+----------+\n",
      "|userId|movieId|prediction|\n",
      "+------+-------+----------+\n",
      "|   474|   3456|       NaN|\n",
      "|   474|   2939|       NaN|\n",
      "|   288|   7020|       NaN|\n",
      "|   474|   6668|       NaN|\n",
      "|   474|   7792|       NaN|\n",
      "|   474|  26085|       NaN|\n",
      "|   474|  34482|       NaN|\n",
      "|   474|  32160|       NaN|\n",
      "|   318|  30892|       NaN|\n",
      "|   318|  30892|       NaN|\n",
      "|   318|  30892|       NaN|\n",
      "|   474|   6849|       NaN|\n",
      "|   474|   1076|       NaN|\n",
      "|   543|  85565|       NaN|\n",
      "|   474|   3338|       NaN|\n",
      "|   474|  25855|       NaN|\n",
      "|   474|   4194|       NaN|\n",
      "|   474|   8765|       NaN|\n",
      "|   474|   5721|       NaN|\n",
      "|   474|   5721|       NaN|\n",
      "+------+-------+----------+\n",
      "only showing top 20 rows\n",
      "\n"
     ]
    }
   ],
   "source": [
    "users_tag_notrateDF = tagsDF.select(F.col(\"userId\"),F.col(\"movieId\"))\\\n",
    "                            .where(F.col(\"movieId\").isin(tagged_unrated_movies))\n",
    "\n",
    "rate_predictions = recommender.transform(users_tag_notrateDF)\n",
    "rate_predictions.show()"
   ]
  },
  {
   "cell_type": "markdown",
   "metadata": {},
   "source": [
    "None of these movies has been watched by anyone, hence the NaN values (consistently with the *coldStartStrategy* parameter). Focus must be shifted to predict users' ratings of movies that have indeed been watched by others.\n",
    "\n",
    "Show predictions for the top 10 users in terms of **number of ratings**:"
   ]
  },
  {
   "cell_type": "code",
   "execution_count": 50,
   "metadata": {},
   "outputs": [
    {
     "name": "stdout",
     "output_type": "stream",
     "text": [
      "The overall average rating amongst all users is 3.502\n",
      "+------+-------------+----------+\n",
      "|userId|count_ratings|avg_rating|\n",
      "+------+-------------+----------+\n",
      "|   414|         2698|     3.392|\n",
      "|   599|         2478|     2.642|\n",
      "|   474|         2108|     3.399|\n",
      "|   448|         1864|     2.847|\n",
      "|   274|         1346|     3.236|\n",
      "|   610|         1302|     3.689|\n",
      "|    68|         1260|     3.234|\n",
      "|   380|         1218|     3.673|\n",
      "|   606|         1115|     3.657|\n",
      "|   288|         1055|     3.146|\n",
      "+------+-------------+----------+\n",
      "\n"
     ]
    }
   ],
   "source": [
    "total_avg_rating = ratingsDF.groupBy().agg(F.mean(F.col(\"rating\")).alias(\"total_avg_rating\"))\\\n",
    "                            .collect()[0][\"total_avg_rating\"]\n",
    "print(\"The overall average rating amongst all users is {0:.3f}\".format(total_avg_rating))\n",
    "\n",
    "top10usersDF = ratingsDF.groupBy(F.col(\"userId\"))\\\n",
    "                        .agg(F.count(F.col(\"rating\")).alias(\"count_ratings\"),\n",
    "                             F.round(F.mean(F.col(\"rating\")),3).alias(\"avg_rating\"))\\\n",
    "                        .orderBy(F.col(\"count_ratings\").desc())\\\n",
    "                        .limit(10)\n",
    "top10usersDF.show()"
   ]
  },
  {
   "cell_type": "markdown",
   "metadata": {},
   "source": [
    "After training the recommender with the entire dataset, retrieve the top recommendation for each user amongst the top 10 above:"
   ]
  },
  {
   "cell_type": "code",
   "execution_count": 51,
   "metadata": {
    "scrolled": false
   },
   "outputs": [
    {
     "name": "stdout",
     "output_type": "stream",
     "text": [
      "+-------+------+-------------+----------+-----------+-----------------------------------------------------+\n",
      "|movieId|userId|count_ratings|avg_rating|pred_rating|recommended_title                                    |\n",
      "+-------+------+-------------+----------+-----------+-----------------------------------------------------+\n",
      "|3266   |414   |2698         |3.392     |6.0033336  |Man Bites Dog (C'est arrivé près de chez vous) (1992)|\n",
      "|6461   |599   |2478         |2.642     |4.8107777  |Unforgiven, The (1960)                               |\n",
      "|3265   |474   |2108         |3.399     |5.928932   |Hard-Boiled (Lat sau san taam) (1992)                |\n",
      "|501    |448   |1864         |2.847     |5.8097444  |Naked (1993)                                         |\n",
      "|3200   |274   |1346         |3.236     |5.687201   |Last Detail, The (1973)                              |\n",
      "|3508   |610   |1302         |3.689     |5.5455465  |Outlaw Josey Wales, The (1976)                       |\n",
      "|2459   |68    |1260         |3.234     |5.6715727  |Texas Chainsaw Massacre, The (1974)                  |\n",
      "|3477   |380   |1218         |3.673     |5.9964476  |Empire Records (1995)                                |\n",
      "|1096   |606   |1115         |3.657     |5.497174   |Sophie's Choice (1982)                               |\n",
      "|1468   |288   |1055         |3.146     |4.974684   |Booty Call (1997)                                    |\n",
      "+-------+------+-------------+----------+-----------+-----------------------------------------------------+\n",
      "\n"
     ]
    }
   ],
   "source": [
    "rec_for_top10users = recommender.recommendForAllUsers(1).join(top10usersDF,\"userId\")\n",
    "\n",
    "rec_for_top10users = rec_for_top10users.withColumn(\"recommendations\", F.col(\"recommendations\").getItem(0))\\\n",
    "                                       .withColumn(\"pred_rating\",F.col(\"recommendations\")[\"rating\"])\\\n",
    "                                       .withColumn(\"recommendations\",F.col(\"recommendations\")[\"movieId\"])\\\n",
    "                                       .withColumnRenamed(\"recommendations\",\"movieId\")\n",
    "\n",
    "rec_for_top10users = rec_for_top10users.join(moviesDF.select(\"movieId\",\"title\"),\"movieId\")\\\n",
    "                                       .orderBy(F.col(\"count_ratings\").desc())\\\n",
    "                                       .withColumnRenamed(\"title\",\"recommended_title\")\n",
    "\n",
    "rec_for_top10users.show(truncate=False)"
   ]
  },
  {
   "cell_type": "markdown",
   "metadata": {},
   "source": [
    "The rating is considered a continuous variable, hence the predictions may go beyond the theoretical upper bound of 5.0. For all ten users, the predicted rating is considerably above their historical average.\n",
    "\n",
    "Additionally, let's consider if the recommended movies are consistent with the historical record of these users in terms of movie release year:"
   ]
  },
  {
   "cell_type": "code",
   "execution_count": 52,
   "metadata": {},
   "outputs": [
    {
     "name": "stdout",
     "output_type": "stream",
     "text": [
      "+------+-------------+-------------+-------------+---------------------+\n",
      "|userId|avg_movieYear|min_movieYear|max_movieYear|recommended_movieYear|\n",
      "+------+-------------+-------------+-------------+---------------------+\n",
      "|   606|         1988|         1921|         2012|                 1982|\n",
      "|   599|         1994|         1902|         2017|                 1960|\n",
      "|   274|         1997|         1932|         2011|                 1973|\n",
      "|   474|         1983|         1921|         2008|                 1992|\n",
      "|   610|         2003|         1939|         2017|                 1976|\n",
      "|   380|         1999|         1922|         2018|                 1995|\n",
      "|   448|         2000|         1930|         2017|                 1993|\n",
      "|   288|         1989|         1933|         2009|                 1997|\n",
      "|   414|         1996|         1927|         2018|                 1992|\n",
      "|    68|         1998|         1936|         2017|                 1974|\n",
      "+------+-------------+-------------+-------------+---------------------+\n",
      "\n"
     ]
    }
   ],
   "source": [
    "top10users = rec_for_top10users.select(\"userId\").collect()\n",
    "top10users = [row.userId for row in top10users]\n",
    "\n",
    "movies_ratingsDF.where(F.col(\"userId\").isin(top10users))\\\n",
    "                .withColumn(\"releaseYear\",F.substring(F.rtrim(F.col(\"title\")),-5,4).cast(IntegerType()))\\\n",
    "                .groupBy(\"userId\")\\\n",
    "                .agg(F.round(F.mean(F.col(\"releaseYear\")),0).cast(IntegerType()).alias(\"avg_movieYear\"),\n",
    "                     F.min(F.col(\"releaseYear\")).alias(\"min_movieYear\"),\n",
    "                     F.max(F.col(\"releaseYear\")).alias(\"max_movieYear\"))\\\n",
    "                .join(rec_for_top10users.select(\"userId\",\"recommended_title\"),\"userId\")\\\n",
    "                .withColumn(\"recommended_title\",\n",
    "                            F.substring(F.rtrim(F.col(\"recommended_title\")),-5,4).cast(IntegerType()))\\\n",
    "                .withColumnRenamed(\"recommended_title\",\"recommended_movieYear\")\\\n",
    "                .show()"
   ]
  },
  {
   "cell_type": "markdown",
   "metadata": {},
   "source": [
    "With the exception of users 474 and 288 (whereby interestingly they have the lowest movieYear average), all other users are suggested to watch older movies than the average they rate. This is consistent with the previous finding that there are notably less movies from past decades but they are more likely to be appreciated by active users. This is also reinforced by the fact that all users have been exposed to older movies (from the 30s or earlier) before."
   ]
  }
 ],
 "metadata": {
  "kernelspec": {
   "display_name": "Python 3",
   "language": "python",
   "name": "python3"
  },
  "language_info": {
   "codemirror_mode": {
    "name": "ipython",
    "version": 3
   },
   "file_extension": ".py",
   "mimetype": "text/x-python",
   "name": "python",
   "nbconvert_exporter": "python",
   "pygments_lexer": "ipython3",
   "version": "3.7.3"
  }
 },
 "nbformat": 4,
 "nbformat_minor": 2
}
